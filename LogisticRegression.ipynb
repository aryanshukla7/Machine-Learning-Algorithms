{
  "nbformat": 4,
  "nbformat_minor": 0,
  "metadata": {
    "colab": {
      "provenance": [],
      "mount_file_id": "1R-zZcISjiVlZgYiQUMl52PfvVBN2K5lf",
      "authorship_tag": "ABX9TyNprPjWlpKYtUMp+R0v2KI+",
      "include_colab_link": true
    },
    "kernelspec": {
      "name": "python3",
      "display_name": "Python 3"
    },
    "language_info": {
      "name": "python"
    }
  },
  "cells": [
    {
      "cell_type": "markdown",
      "metadata": {
        "id": "view-in-github",
        "colab_type": "text"
      },
      "source": [
        "<a href=\"https://colab.research.google.com/github/aryannewyork/Machine-Learning-Algorithms/blob/master/LogisticRegression.ipynb\" target=\"_parent\"><img src=\"https://colab.research.google.com/assets/colab-badge.svg\" alt=\"Open In Colab\"/></a>"
      ]
    },
    {
      "cell_type": "code",
      "execution_count": null,
      "metadata": {
        "id": "czzr3V4bX_PZ"
      },
      "outputs": [],
      "source": [
        "import pandas as pd\n",
        "import numpy as np\n",
        "import matplotlib.pyplot as plt\n",
        "from sklearn.model_selection import train_test_split\n",
        "from sklearn.metrics import accuracy_score, confusion_matrix\n",
        "import random\n",
        "from time import process_time_ns, process_time"
      ]
    },
    {
      "cell_type": "markdown",
      "source": [
        "# Binary Classification Data"
      ],
      "metadata": {
        "id": "YdMtEparIjfK"
      }
    },
    {
      "cell_type": "code",
      "source": [
        "df = pd.read_csv('/content/drive/MyDrive/Datasets/Binary Classification/data_banknote_authentication.csv')\n",
        "df.head()"
      ],
      "metadata": {
        "colab": {
          "base_uri": "https://localhost:8080/",
          "height": 206
        },
        "id": "PSiai7-lb7kD",
        "outputId": "2029faf4-4f88-4adf-ccca-a2c0e366e719"
      },
      "execution_count": null,
      "outputs": [
        {
          "output_type": "execute_result",
          "data": {
            "text/plain": [
              "   variance  skewness  curtosis  entropy  authenticity\n",
              "0   3.62160    8.6661   -2.8073 -0.44699             0\n",
              "1   4.54590    8.1674   -2.4586 -1.46210             0\n",
              "2   3.86600   -2.6383    1.9242  0.10645             0\n",
              "3   3.45660    9.5228   -4.0112 -3.59440             0\n",
              "4   0.32924   -4.4552    4.5718 -0.98880             0"
            ],
            "text/html": [
              "\n",
              "  <div id=\"df-77b927c8-f77c-4c46-98ce-f68e8a4a9f12\">\n",
              "    <div class=\"colab-df-container\">\n",
              "      <div>\n",
              "<style scoped>\n",
              "    .dataframe tbody tr th:only-of-type {\n",
              "        vertical-align: middle;\n",
              "    }\n",
              "\n",
              "    .dataframe tbody tr th {\n",
              "        vertical-align: top;\n",
              "    }\n",
              "\n",
              "    .dataframe thead th {\n",
              "        text-align: right;\n",
              "    }\n",
              "</style>\n",
              "<table border=\"1\" class=\"dataframe\">\n",
              "  <thead>\n",
              "    <tr style=\"text-align: right;\">\n",
              "      <th></th>\n",
              "      <th>variance</th>\n",
              "      <th>skewness</th>\n",
              "      <th>curtosis</th>\n",
              "      <th>entropy</th>\n",
              "      <th>authenticity</th>\n",
              "    </tr>\n",
              "  </thead>\n",
              "  <tbody>\n",
              "    <tr>\n",
              "      <th>0</th>\n",
              "      <td>3.62160</td>\n",
              "      <td>8.6661</td>\n",
              "      <td>-2.8073</td>\n",
              "      <td>-0.44699</td>\n",
              "      <td>0</td>\n",
              "    </tr>\n",
              "    <tr>\n",
              "      <th>1</th>\n",
              "      <td>4.54590</td>\n",
              "      <td>8.1674</td>\n",
              "      <td>-2.4586</td>\n",
              "      <td>-1.46210</td>\n",
              "      <td>0</td>\n",
              "    </tr>\n",
              "    <tr>\n",
              "      <th>2</th>\n",
              "      <td>3.86600</td>\n",
              "      <td>-2.6383</td>\n",
              "      <td>1.9242</td>\n",
              "      <td>0.10645</td>\n",
              "      <td>0</td>\n",
              "    </tr>\n",
              "    <tr>\n",
              "      <th>3</th>\n",
              "      <td>3.45660</td>\n",
              "      <td>9.5228</td>\n",
              "      <td>-4.0112</td>\n",
              "      <td>-3.59440</td>\n",
              "      <td>0</td>\n",
              "    </tr>\n",
              "    <tr>\n",
              "      <th>4</th>\n",
              "      <td>0.32924</td>\n",
              "      <td>-4.4552</td>\n",
              "      <td>4.5718</td>\n",
              "      <td>-0.98880</td>\n",
              "      <td>0</td>\n",
              "    </tr>\n",
              "  </tbody>\n",
              "</table>\n",
              "</div>\n",
              "      <button class=\"colab-df-convert\" onclick=\"convertToInteractive('df-77b927c8-f77c-4c46-98ce-f68e8a4a9f12')\"\n",
              "              title=\"Convert this dataframe to an interactive table.\"\n",
              "              style=\"display:none;\">\n",
              "        \n",
              "  <svg xmlns=\"http://www.w3.org/2000/svg\" height=\"24px\"viewBox=\"0 0 24 24\"\n",
              "       width=\"24px\">\n",
              "    <path d=\"M0 0h24v24H0V0z\" fill=\"none\"/>\n",
              "    <path d=\"M18.56 5.44l.94 2.06.94-2.06 2.06-.94-2.06-.94-.94-2.06-.94 2.06-2.06.94zm-11 1L8.5 8.5l.94-2.06 2.06-.94-2.06-.94L8.5 2.5l-.94 2.06-2.06.94zm10 10l.94 2.06.94-2.06 2.06-.94-2.06-.94-.94-2.06-.94 2.06-2.06.94z\"/><path d=\"M17.41 7.96l-1.37-1.37c-.4-.4-.92-.59-1.43-.59-.52 0-1.04.2-1.43.59L10.3 9.45l-7.72 7.72c-.78.78-.78 2.05 0 2.83L4 21.41c.39.39.9.59 1.41.59.51 0 1.02-.2 1.41-.59l7.78-7.78 2.81-2.81c.8-.78.8-2.07 0-2.86zM5.41 20L4 18.59l7.72-7.72 1.47 1.35L5.41 20z\"/>\n",
              "  </svg>\n",
              "      </button>\n",
              "      \n",
              "  <style>\n",
              "    .colab-df-container {\n",
              "      display:flex;\n",
              "      flex-wrap:wrap;\n",
              "      gap: 12px;\n",
              "    }\n",
              "\n",
              "    .colab-df-convert {\n",
              "      background-color: #E8F0FE;\n",
              "      border: none;\n",
              "      border-radius: 50%;\n",
              "      cursor: pointer;\n",
              "      display: none;\n",
              "      fill: #1967D2;\n",
              "      height: 32px;\n",
              "      padding: 0 0 0 0;\n",
              "      width: 32px;\n",
              "    }\n",
              "\n",
              "    .colab-df-convert:hover {\n",
              "      background-color: #E2EBFA;\n",
              "      box-shadow: 0px 1px 2px rgba(60, 64, 67, 0.3), 0px 1px 3px 1px rgba(60, 64, 67, 0.15);\n",
              "      fill: #174EA6;\n",
              "    }\n",
              "\n",
              "    [theme=dark] .colab-df-convert {\n",
              "      background-color: #3B4455;\n",
              "      fill: #D2E3FC;\n",
              "    }\n",
              "\n",
              "    [theme=dark] .colab-df-convert:hover {\n",
              "      background-color: #434B5C;\n",
              "      box-shadow: 0px 1px 3px 1px rgba(0, 0, 0, 0.15);\n",
              "      filter: drop-shadow(0px 1px 2px rgba(0, 0, 0, 0.3));\n",
              "      fill: #FFFFFF;\n",
              "    }\n",
              "  </style>\n",
              "\n",
              "      <script>\n",
              "        const buttonEl =\n",
              "          document.querySelector('#df-77b927c8-f77c-4c46-98ce-f68e8a4a9f12 button.colab-df-convert');\n",
              "        buttonEl.style.display =\n",
              "          google.colab.kernel.accessAllowed ? 'block' : 'none';\n",
              "\n",
              "        async function convertToInteractive(key) {\n",
              "          const element = document.querySelector('#df-77b927c8-f77c-4c46-98ce-f68e8a4a9f12');\n",
              "          const dataTable =\n",
              "            await google.colab.kernel.invokeFunction('convertToInteractive',\n",
              "                                                     [key], {});\n",
              "          if (!dataTable) return;\n",
              "\n",
              "          const docLinkHtml = 'Like what you see? Visit the ' +\n",
              "            '<a target=\"_blank\" href=https://colab.research.google.com/notebooks/data_table.ipynb>data table notebook</a>'\n",
              "            + ' to learn more about interactive tables.';\n",
              "          element.innerHTML = '';\n",
              "          dataTable['output_type'] = 'display_data';\n",
              "          await google.colab.output.renderOutput(dataTable, element);\n",
              "          const docLink = document.createElement('div');\n",
              "          docLink.innerHTML = docLinkHtml;\n",
              "          element.appendChild(docLink);\n",
              "        }\n",
              "      </script>\n",
              "    </div>\n",
              "  </div>\n",
              "  "
            ]
          },
          "metadata": {},
          "execution_count": 3
        }
      ]
    },
    {
      "cell_type": "markdown",
      "source": [
        "# Data Pre-Processing"
      ],
      "metadata": {
        "id": "aAzPw3zEIngV"
      }
    },
    {
      "cell_type": "code",
      "source": [
        "df.isnull().values.any()"
      ],
      "metadata": {
        "colab": {
          "base_uri": "https://localhost:8080/"
        },
        "id": "dqMYSPz_hY-i",
        "outputId": "640f0237-bfcd-480b-a4c3-7906aa704938"
      },
      "execution_count": null,
      "outputs": [
        {
          "output_type": "execute_result",
          "data": {
            "text/plain": [
              "False"
            ]
          },
          "metadata": {},
          "execution_count": 4
        }
      ]
    },
    {
      "cell_type": "code",
      "source": [
        "def normalizeCol(col):\n",
        "  max = col.max()\n",
        "  min = col.min()\n",
        "  diff = max-min\n",
        "  for x in range(len(col)):\n",
        "    col[x] = (col[x]-min)/diff"
      ],
      "metadata": {
        "id": "n8I1j3zUfDFX"
      },
      "execution_count": null,
      "outputs": []
    },
    {
      "cell_type": "code",
      "source": [
        "def sigmoid(z):\n",
        "  return 1/(1+np.exp(-1*z))"
      ],
      "metadata": {
        "id": "erZM4KV1h0qU"
      },
      "execution_count": null,
      "outputs": []
    },
    {
      "cell_type": "code",
      "source": [
        "for col in df:\n",
        "  normalizeCol(df[col])"
      ],
      "metadata": {
        "colab": {
          "base_uri": "https://localhost:8080/"
        },
        "id": "iqBBPgr7g2pF",
        "outputId": "89f6ba9a-c3ec-402f-d34f-b00c9f22c563"
      },
      "execution_count": null,
      "outputs": [
        {
          "output_type": "stream",
          "name": "stderr",
          "text": [
            "<ipython-input-5-b47179d3bff7>:6: SettingWithCopyWarning: \n",
            "A value is trying to be set on a copy of a slice from a DataFrame\n",
            "\n",
            "See the caveats in the documentation: https://pandas.pydata.org/pandas-docs/stable/user_guide/indexing.html#returning-a-view-versus-a-copy\n",
            "  col[x] = (col[x]-min)/diff\n"
          ]
        }
      ]
    },
    {
      "cell_type": "code",
      "source": [
        "labelCol = ['authenticity']\n",
        "X = df[df.columns[~df.columns.isin(labelCol)]]\n",
        "Y = df[labelCol]"
      ],
      "metadata": {
        "id": "QmEuGIkgeENu"
      },
      "execution_count": null,
      "outputs": []
    },
    {
      "cell_type": "code",
      "source": [
        "X_train, X_test, Y_train, Y_test = train_test_split(X, Y, test_size=0.25, random_state = 0)\n",
        "X_train.insert(0, 'bias', 1)\n",
        "X_test.insert(0, 'bias', 1)\n",
        "X_train.head()"
      ],
      "metadata": {
        "colab": {
          "base_uri": "https://localhost:8080/",
          "height": 206
        },
        "id": "qs5gt65KceM6",
        "outputId": "15afcafc-18b1-4025-8191-6000619c0cf3"
      },
      "execution_count": null,
      "outputs": [
        {
          "output_type": "execute_result",
          "data": {
            "text/plain": [
              "      bias  variance  skewness  curtosis   entropy\n",
              "662      1  0.722274  0.844444  0.071088  0.652209\n",
              "512      1  0.700005  0.917769  0.081276  0.398238\n",
              "1193     1  0.236881  0.205110  0.671562  0.811878\n",
              "682      1  0.776973  0.370036  0.372361  0.776722\n",
              "1313     1  0.399101  0.241499  0.567954  0.889013"
            ],
            "text/html": [
              "\n",
              "  <div id=\"df-bdd9ae2d-1368-41e8-ab4f-f6eacf8a100f\">\n",
              "    <div class=\"colab-df-container\">\n",
              "      <div>\n",
              "<style scoped>\n",
              "    .dataframe tbody tr th:only-of-type {\n",
              "        vertical-align: middle;\n",
              "    }\n",
              "\n",
              "    .dataframe tbody tr th {\n",
              "        vertical-align: top;\n",
              "    }\n",
              "\n",
              "    .dataframe thead th {\n",
              "        text-align: right;\n",
              "    }\n",
              "</style>\n",
              "<table border=\"1\" class=\"dataframe\">\n",
              "  <thead>\n",
              "    <tr style=\"text-align: right;\">\n",
              "      <th></th>\n",
              "      <th>bias</th>\n",
              "      <th>variance</th>\n",
              "      <th>skewness</th>\n",
              "      <th>curtosis</th>\n",
              "      <th>entropy</th>\n",
              "    </tr>\n",
              "  </thead>\n",
              "  <tbody>\n",
              "    <tr>\n",
              "      <th>662</th>\n",
              "      <td>1</td>\n",
              "      <td>0.722274</td>\n",
              "      <td>0.844444</td>\n",
              "      <td>0.071088</td>\n",
              "      <td>0.652209</td>\n",
              "    </tr>\n",
              "    <tr>\n",
              "      <th>512</th>\n",
              "      <td>1</td>\n",
              "      <td>0.700005</td>\n",
              "      <td>0.917769</td>\n",
              "      <td>0.081276</td>\n",
              "      <td>0.398238</td>\n",
              "    </tr>\n",
              "    <tr>\n",
              "      <th>1193</th>\n",
              "      <td>1</td>\n",
              "      <td>0.236881</td>\n",
              "      <td>0.205110</td>\n",
              "      <td>0.671562</td>\n",
              "      <td>0.811878</td>\n",
              "    </tr>\n",
              "    <tr>\n",
              "      <th>682</th>\n",
              "      <td>1</td>\n",
              "      <td>0.776973</td>\n",
              "      <td>0.370036</td>\n",
              "      <td>0.372361</td>\n",
              "      <td>0.776722</td>\n",
              "    </tr>\n",
              "    <tr>\n",
              "      <th>1313</th>\n",
              "      <td>1</td>\n",
              "      <td>0.399101</td>\n",
              "      <td>0.241499</td>\n",
              "      <td>0.567954</td>\n",
              "      <td>0.889013</td>\n",
              "    </tr>\n",
              "  </tbody>\n",
              "</table>\n",
              "</div>\n",
              "      <button class=\"colab-df-convert\" onclick=\"convertToInteractive('df-bdd9ae2d-1368-41e8-ab4f-f6eacf8a100f')\"\n",
              "              title=\"Convert this dataframe to an interactive table.\"\n",
              "              style=\"display:none;\">\n",
              "        \n",
              "  <svg xmlns=\"http://www.w3.org/2000/svg\" height=\"24px\"viewBox=\"0 0 24 24\"\n",
              "       width=\"24px\">\n",
              "    <path d=\"M0 0h24v24H0V0z\" fill=\"none\"/>\n",
              "    <path d=\"M18.56 5.44l.94 2.06.94-2.06 2.06-.94-2.06-.94-.94-2.06-.94 2.06-2.06.94zm-11 1L8.5 8.5l.94-2.06 2.06-.94-2.06-.94L8.5 2.5l-.94 2.06-2.06.94zm10 10l.94 2.06.94-2.06 2.06-.94-2.06-.94-.94-2.06-.94 2.06-2.06.94z\"/><path d=\"M17.41 7.96l-1.37-1.37c-.4-.4-.92-.59-1.43-.59-.52 0-1.04.2-1.43.59L10.3 9.45l-7.72 7.72c-.78.78-.78 2.05 0 2.83L4 21.41c.39.39.9.59 1.41.59.51 0 1.02-.2 1.41-.59l7.78-7.78 2.81-2.81c.8-.78.8-2.07 0-2.86zM5.41 20L4 18.59l7.72-7.72 1.47 1.35L5.41 20z\"/>\n",
              "  </svg>\n",
              "      </button>\n",
              "      \n",
              "  <style>\n",
              "    .colab-df-container {\n",
              "      display:flex;\n",
              "      flex-wrap:wrap;\n",
              "      gap: 12px;\n",
              "    }\n",
              "\n",
              "    .colab-df-convert {\n",
              "      background-color: #E8F0FE;\n",
              "      border: none;\n",
              "      border-radius: 50%;\n",
              "      cursor: pointer;\n",
              "      display: none;\n",
              "      fill: #1967D2;\n",
              "      height: 32px;\n",
              "      padding: 0 0 0 0;\n",
              "      width: 32px;\n",
              "    }\n",
              "\n",
              "    .colab-df-convert:hover {\n",
              "      background-color: #E2EBFA;\n",
              "      box-shadow: 0px 1px 2px rgba(60, 64, 67, 0.3), 0px 1px 3px 1px rgba(60, 64, 67, 0.15);\n",
              "      fill: #174EA6;\n",
              "    }\n",
              "\n",
              "    [theme=dark] .colab-df-convert {\n",
              "      background-color: #3B4455;\n",
              "      fill: #D2E3FC;\n",
              "    }\n",
              "\n",
              "    [theme=dark] .colab-df-convert:hover {\n",
              "      background-color: #434B5C;\n",
              "      box-shadow: 0px 1px 3px 1px rgba(0, 0, 0, 0.15);\n",
              "      filter: drop-shadow(0px 1px 2px rgba(0, 0, 0, 0.3));\n",
              "      fill: #FFFFFF;\n",
              "    }\n",
              "  </style>\n",
              "\n",
              "      <script>\n",
              "        const buttonEl =\n",
              "          document.querySelector('#df-bdd9ae2d-1368-41e8-ab4f-f6eacf8a100f button.colab-df-convert');\n",
              "        buttonEl.style.display =\n",
              "          google.colab.kernel.accessAllowed ? 'block' : 'none';\n",
              "\n",
              "        async function convertToInteractive(key) {\n",
              "          const element = document.querySelector('#df-bdd9ae2d-1368-41e8-ab4f-f6eacf8a100f');\n",
              "          const dataTable =\n",
              "            await google.colab.kernel.invokeFunction('convertToInteractive',\n",
              "                                                     [key], {});\n",
              "          if (!dataTable) return;\n",
              "\n",
              "          const docLinkHtml = 'Like what you see? Visit the ' +\n",
              "            '<a target=\"_blank\" href=https://colab.research.google.com/notebooks/data_table.ipynb>data table notebook</a>'\n",
              "            + ' to learn more about interactive tables.';\n",
              "          element.innerHTML = '';\n",
              "          dataTable['output_type'] = 'display_data';\n",
              "          await google.colab.output.renderOutput(dataTable, element);\n",
              "          const docLink = document.createElement('div');\n",
              "          docLink.innerHTML = docLinkHtml;\n",
              "          element.appendChild(docLink);\n",
              "        }\n",
              "      </script>\n",
              "    </div>\n",
              "  </div>\n",
              "  "
            ]
          },
          "metadata": {},
          "execution_count": 9
        }
      ]
    },
    {
      "cell_type": "markdown",
      "source": [
        "# Model Training Using TGD and SGD"
      ],
      "metadata": {
        "id": "OgMvWYB2GKoe"
      }
    },
    {
      "cell_type": "code",
      "source": [
        "def log_regression_total_gradient_descent(X_train, Y_train, epochs):\n",
        "  weights = np.zeros(len(X_train.columns))\n",
        "  epochs = epochs\n",
        "  learning_rate = 1e-5\n",
        "  regularization = 1e-2\n",
        "  for epoch in range(epochs):\n",
        "    weights = weights - learning_rate*((Y_train.T - sigmoid(weights @ X_train.T))@X_train + regularization*weights)\n",
        "  return weights\n",
        "\n",
        "def log_regression_stochastic_gradient_descent(X_train, Y_train, iterations):\n",
        "  weights = np.zeros(len(X_train.columns))\n",
        "  iterations = iterations\n",
        "  learning_rate = 1e-2\n",
        "  regularization = 1e-2\n",
        "  for iter in range(iterations):\n",
        "    randomIndex = random.randint(0, len(X_train)-1)\n",
        "    weights = weights - learning_rate*((Y_train.iloc[randomIndex].T - sigmoid(weights @ X_train.iloc[randomIndex].to_numpy().reshape(-1, 1)))@X_train.iloc[randomIndex].to_numpy().reshape(1, -1) + regularization*weights)\n",
        "  return weights\n",
        "\n",
        "def log_regression_batch_gradient_descent(X_train, Y_train, iterations, batchSize):\n",
        "  weights = np.zeros(len(X_train.columns))\n",
        "  iterations = iterations\n",
        "  learning_rate = 1e-2\n",
        "  regularization = 1e-2\n",
        "  for iter in range(iterations):\n",
        "    randomIndices = np.random.randint(len(X_train)-1, size=(batchSize))\n",
        "    weights = weights - learning_rate*((Y_train.iloc[randomIndices].T - sigmoid(weights @ X_train.iloc[randomIndices].T.to_numpy()))@X_train.iloc[randomIndices].to_numpy() + regularization*weights)\n",
        "    weights = weights.to_numpy()\n",
        "  return weights.reshape(-1)"
      ],
      "metadata": {
        "id": "jSOpO_C_A-nm"
      },
      "execution_count": null,
      "outputs": []
    },
    {
      "cell_type": "markdown",
      "source": [
        "# Making Predictions"
      ],
      "metadata": {
        "id": "P6R3N7zoIVqp"
      }
    },
    {
      "cell_type": "code",
      "source": [
        "def pred(weights, X_test, Y_test, threshold):\n",
        "  pred = sigmoid(weights @ X_test.T).to_numpy()\n",
        "  pred = pred.reshape(-1)\n",
        "  for x in range(len(pred)):\n",
        "    if(pred[x] > threshold):\n",
        "      pred[x] = 1\n",
        "    else:\n",
        "      pred[x] = 0\n",
        "  return accuracy_score(Y_test, pred)"
      ],
      "metadata": {
        "id": "1Q8tSnhnGX8k"
      },
      "execution_count": null,
      "outputs": []
    },
    {
      "cell_type": "code",
      "source": [
        "start = process_time_ns()\n",
        "w1 = log_regression_total_gradient_descent(X_train, Y_train, 100)\n",
        "end = process_time_ns()\n",
        "print('TGD Time: ', end-start, 'ns')\n",
        "\n",
        "start = process_time_ns()\n",
        "w2 = log_regression_batch_gradient_descent(X_train, Y_train, 10, 1)\n",
        "end = process_time_ns()\n",
        "print('SGD Time: ', end-start, 'ns')\n",
        "\n",
        "start = process_time_ns()\n",
        "w3 = log_regression_batch_gradient_descent(X_train, Y_train, 10, 10)\n",
        "end = process_time_ns()\n",
        "print('BGD Time: ', end-start, 'ns')\n",
        "\n",
        "threshold = [0.0]\n",
        "for i in range(20):\n",
        "  threshold.append(np.round(threshold[-1]+0.05, 2))\n",
        "score1 = []\n",
        "score2 = []\n",
        "score3 = []\n",
        "for t in threshold:\n",
        "  score1.append(pred(w1, X_test, Y_test, t))\n",
        "for t in threshold:\n",
        "  score2.append(pred(w2, X_test, Y_test, t))\n",
        "for t in threshold:\n",
        "  score3.append(pred(w3, X_test, Y_test, t))\n",
        "plt.plot(threshold, score1, color='g', label='TGD')\n",
        "plt.plot(threshold, score2, color='r', label='SGD')\n",
        "plt.plot(threshold, score3, color='b', label='BGD')\n",
        "plt.xlabel('Threshold')\n",
        "plt.ylabel('Accuracy')\n",
        "plt.legend(['TGD', 'SGD', 'BGD'], loc='lower right')\n",
        "plt.show()\n",
        "print(f\"Accuracy for TGD is: {max(score1)*100} %\")\n",
        "print(f\"Accuracy for SGD is: {max(score2)*100} %\")\n",
        "print(f\"Accuracy for BGD is: {max(score3)*100} %\")"
      ],
      "metadata": {
        "colab": {
          "base_uri": "https://localhost:8080/",
          "height": 553
        },
        "id": "h6SG1eXcG5ML",
        "outputId": "88775e52-7d52-4053-e0c6-60f7291c1d6e"
      },
      "execution_count": null,
      "outputs": [
        {
          "output_type": "stream",
          "name": "stdout",
          "text": [
            "TGD Time:  220288937 ns\n",
            "SGD Time:  24720072 ns\n",
            "BGD Time:  23830055 ns\n"
          ]
        },
        {
          "output_type": "display_data",
          "data": {
            "text/plain": [
              "<Figure size 640x480 with 1 Axes>"
            ],
            "image/png": "[encoded data removed]"
          },
          "metadata": {}
        },
        {
          "output_type": "stream",
          "name": "stdout",
          "text": [
            "Accuracy for TGD is: 56.85131195335277 %\n",
            "Accuracy for SGD is: 56.85131195335277 %\n",
            "Accuracy for BGD is: 56.85131195335277 %\n"
          ]
        }
      ]
    },
    {
      "cell_type": "code",
      "source": [
        "time_BGD = []\n",
        "score = []\n",
        "batchSize = [i for i in range(100)]\n",
        "for i in range(100):\n",
        "  start = process_time()\n",
        "  w3 = log_regression_batch_gradient_descent(X_train, Y_train, 10, i)\n",
        "  score.append(pred(w3, X_test, Y_test, 0.5))\n",
        "  end = process_time()\n",
        "  time_BGD.append(end-start)\n",
        "plt.plot(batchSize, score)\n",
        "plt.xlabel('Batch Size')\n",
        "plt.ylabel('Accuracy')\n",
        "plt.legend(['BGD'], loc='upper right')\n",
        "plt.show()"
      ],
      "metadata": {
        "id": "9JqgMSp9bc23",
        "colab": {
          "base_uri": "https://localhost:8080/",
          "height": 466
        },
        "outputId": "ef8d8fe0-6bbb-44be-aa1e-e2e73deae4f3"
      },
      "execution_count": null,
      "outputs": [
        {
          "output_type": "execute_result",
          "data": {
            "text/plain": [
              "Text(0, 0.5, 'Accuracy')"
            ]
          },
          "metadata": {},
          "execution_count": 19
        },
        {
          "output_type": "display_data",
          "data": {
            "text/plain": [
              "<Figure size 640x480 with 1 Axes>"
            ],
            "image/png": "[encoded data removed]"
          },
          "metadata": {}
        }
      ]
    },
    {
      "cell_type": "code",
      "source": [
        "plt.plot(batchSize, time_BGD)\n",
        "plt.xlabel('Batch Size')\n",
        "plt.ylabel('Time')\n",
        "plt.legend(['BGD'], loc='upper right')\n",
        "plt.show()"
      ],
      "metadata": {
        "id": "fi9wLZ22nf7i",
        "colab": {
          "base_uri": "https://localhost:8080/",
          "height": 449
        },
        "outputId": "c82b3b80-192f-4dbd-83bf-8cb5a45b3550"
      },
      "execution_count": null,
      "outputs": [
        {
          "output_type": "display_data",
          "data": {
            "text/plain": [
              "<Figure size 640x480 with 1 Axes>"
            ],
            "image/png": "[encoded data removed]"
          },
          "metadata": {}
        }
      ]
    }
  ]
}