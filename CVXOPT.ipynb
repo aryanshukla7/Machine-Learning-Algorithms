{
  "nbformat": 4,
  "nbformat_minor": 0,
  "metadata": {
    "colab": {
      "provenance": [],
      "authorship_tag": "ABX9TyNF/B0bwyBVeV4KLU7Jsss4",
      "include_colab_link": true
    },
    "kernelspec": {
      "name": "python3",
      "display_name": "Python 3"
    },
    "language_info": {
      "name": "python"
    }
  },
  "cells": [
    {
      "cell_type": "markdown",
      "metadata": {
        "id": "view-in-github",
        "colab_type": "text"
      },
      "source": [
        "<a href=\"https://colab.research.google.com/github/aryannewyork/Machine-Learning-Algorithms/blob/master/CVXOPT.ipynb\" target=\"_parent\"><img src=\"https://colab.research.google.com/assets/colab-badge.svg\" alt=\"Open In Colab\"/></a>"
      ]
    },
    {
      "cell_type": "code",
      "execution_count": null,
      "metadata": {
        "id": "lBcdyBSfyb-y"
      },
      "outputs": [],
      "source": [
        "from sklearn.datasets import make_blobs\n",
        "import matplotlib.pyplot as plt\n",
        "import numpy as np\n",
        "from cvxopt import matrix as cvxoptMatrix\n",
        "from cvxopt import solvers as cvxoptSolvers"
      ]
    },
    {
      "cell_type": "code",
      "source": [
        "plt.style.use('classic')\n",
        "N = 100\n",
        "X, y = make_blobs(n_samples=N, random_state=1, centers=2, n_features=5)\n",
        "y[y == 0] = -1"
      ],
      "metadata": {
        "id": "6xIQjwHk0Xdm"
      },
      "execution_count": null,
      "outputs": []
    },
    {
      "cell_type": "code",
      "source": [
        "plt.xlabel('$n \\in \\mathbb{R}$')\n",
        "plt.ylabel('$\\mu(n)$')\n",
        "print(np.shape(X))\n",
        "print(np.shape(y))\n",
        "plt.scatter(X.T[0], X.T[1], c=y+1, alpha=.5)"
      ],
      "metadata": {
        "colab": {
          "base_uri": "https://localhost:8080/",
          "height": 511
        },
        "id": "FIpkrfTW0ttX",
        "outputId": "e58a0589-bd98-4a31-9ee3-cfe4beaebb59"
      },
      "execution_count": null,
      "outputs": [
        {
          "output_type": "stream",
          "name": "stdout",
          "text": [
            "(100, 5)\n",
            "(100,)\n"
          ]
        },
        {
          "output_type": "execute_result",
          "data": {
            "text/plain": [
              "<matplotlib.collections.PathCollection at 0x7f5c93e62370>"
            ]
          },
          "metadata": {},
          "execution_count": 36
        },
        {
          "output_type": "display_data",
          "data": {
            "text/plain": [
              "<Figure size 640x480 with 1 Axes>"
            ],
            "image/png": "[encoded data removed]"
          },
          "metadata": {}
        }
      ]
    },
    {
      "cell_type": "code",
      "source": [
        "y = y.reshape(-1, 1)*1.\n",
        "# gives a -ve identity matrix of size (NxN)\n",
        "G = cvxoptMatrix(-np.eye(N))\n",
        "h = cvxoptMatrix(np.zeros(N))\n",
        "q = cvxoptMatrix(-np.ones((N, 1)))\n",
        "# reshaping y is done to transpose it, -1 means number of elements in y (easier representaion)\n",
        "A = cvxoptMatrix(y.reshape(1, -1))\n",
        "b = cvxoptMatrix(np.zeros(1))\n",
        "# y = y.reshape(-1, 1)\n",
        "print(y.shape,X.shape)\n",
        "H = np.dot((y*X), (y*X).T)\n",
        "P = cvxoptMatrix(H)"
      ],
      "metadata": {
        "colab": {
          "base_uri": "https://localhost:8080/"
        },
        "id": "lgQmPj461Hbp",
        "outputId": "ad1df701-bffa-44f0-8036-0a7237676176"
      },
      "execution_count": null,
      "outputs": [
        {
          "output_type": "stream",
          "name": "stdout",
          "text": [
            "(100, 1) (100, 5)\n"
          ]
        }
      ]
    },
    {
      "cell_type": "code",
      "source": [
        "sol = cvxoptSolvers.qp(P, q, G, h, A, b)\n",
        "print(sol)\n",
        "alphas = sol['x']\n",
        "print(np.array(sol['x']).shape)"
      ],
      "metadata": {
        "colab": {
          "base_uri": "https://localhost:8080/"
        },
        "id": "87Q2kH9YEwZX",
        "outputId": "a92499da-5e4a-43d4-d7af-afd564d10cce"
      },
      "execution_count": null,
      "outputs": [
        {
          "output_type": "stream",
          "name": "stdout",
          "text": [
            "     pcost       dcost       gap    pres   dres\n",
            " 0: -1.2040e+00 -1.6810e+00  2e+02  1e+01  1e+00\n",
            " 1: -2.0466e-01 -5.8404e-02  8e+00  5e-01  6e-02\n",
            " 2: -4.6654e-03 -4.3364e-02  3e-01  2e-02  2e-03\n",
            " 3: -1.5337e-03 -3.2089e-02  3e-02  2e-18  6e-16\n",
            " 4: -9.1549e-03 -1.6152e-02  7e-03  3e-18  4e-16\n",
            " 5: -1.2353e-02 -1.6858e-02  5e-03  5e-18  3e-16\n",
            " 6: -1.4972e-02 -1.5336e-02  4e-04  2e-18  5e-16\n",
            " 7: -1.5299e-02 -1.5305e-02  5e-06  2e-18  5e-16\n",
            " 8: -1.5304e-02 -1.5304e-02  5e-08  3e-18  5e-16\n",
            "Optimal solution found.\n",
            "{'x': <100x1 matrix, tc='d'>, 'y': <1x1 matrix, tc='d'>, 's': <100x1 matrix, tc='d'>, 'z': <100x1 matrix, tc='d'>, 'status': 'optimal', 'gap': 5.277613462738729e-08, 'relative gap': 3.4484784816522216e-06, 'primal objective': -0.015304179773249271, 'dual objective': -0.015304232549383899, 'primal infeasibility': 3.469447199089929e-18, 'dual infeasibility': 5.462922922259467e-16, 'primal slack': 4.2776483832423267e-10, 'dual slack': 8.095995597515483e-08, 'iterations': 8}\n",
            "(100, 1)\n"
          ]
        }
      ]
    },
    {
      "cell_type": "code",
      "source": [
        "w = ((y*alphas).T)@X\n",
        "# print(w.shape, X[0].reshape(-1, 1).shape)\n",
        "maxEl = np.max(alphas)\n",
        "maxElInd = list(alphas).index(maxEl)\n",
        "# print(maxElInd)\n",
        "bias = y[maxElInd]-(w @ X[maxElInd].reshape(-1, 1))\n",
        "print(bias)\n",
        "print(sol['y'])"
      ],
      "metadata": {
        "colab": {
          "base_uri": "https://localhost:8080/"
        },
        "id": "XaIWjxi_GtnD",
        "outputId": "b7aec71d-d2d4-4c07-c02a-4af2077ca4da"
      },
      "execution_count": null,
      "outputs": [
        {
          "output_type": "stream",
          "name": "stdout",
          "text": [
            "[[0.46865145]]\n",
            "[ 4.69e-01]\n",
            "\n"
          ]
        }
      ]
    }
  ]
}