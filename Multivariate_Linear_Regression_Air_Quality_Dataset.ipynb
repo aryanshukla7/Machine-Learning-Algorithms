{
  "cells": [
    {
      "cell_type": "code",
      "execution_count": null,
      "metadata": {
        "id": "YWmFykKwG-3F"
      },
      "outputs": [],
      "source": [
        "import pandas as pd\n",
        "import numpy as np\n",
        "import matplotlib.pyplot as plt\n",
        "import random\n",
        "from mpl_toolkits import mplot3d\n",
        "from sklearn.model_selection import train_test_split \n",
        "from time import process_time_ns"
      ]
    },
    {
      "cell_type": "markdown",
      "metadata": {
        "id": "i8ILKpYAN0PW"
      },
      "source": [
        "# Regression Data"
      ]
    },
    {
      "cell_type": "code",
      "execution_count": null,
      "metadata": {
        "id": "2r9RNPC-G_YV"
      },
      "outputs": [],
      "source": [
        "df = pd.read_csv('/content/drive/MyDrive/Datasets/Air Quality UCI/AirQualityUCI.csv')"
      ]
    },
    {
      "cell_type": "code",
      "execution_count": null,
      "metadata": {
        "colab": {
          "base_uri": "https://localhost:8080/",
          "height": 206
        },
        "id": "-b7OGpofHfsv",
        "outputId": "68a38c3b-c761-4bae-e218-0593baab32ae"
      },
      "outputs": [
        {
          "output_type": "execute_result",
          "data": {
            "text/plain": [
              "        Date      Time  CO(GT)  PT08.S1(CO)  NMHC(GT)  C6H6(GT)  \\\n",
              "0  10/3/2004  18.00.00     2.6         1360     150.0      11.9   \n",
              "1  10/3/2004  19.00.00     2.0         1292     112.0       9.4   \n",
              "2  10/3/2004  20.00.00     2.2         1402      88.0       9.0   \n",
              "3  10/3/2004  21.00.00     2.2         1376      80.0       9.2   \n",
              "4  10/3/2004  22.00.00     1.6         1272      51.0       6.5   \n",
              "\n",
              "   PT08.S2(NMHC)  NOx(GT)  PT08.S3(NOx)  NO2(GT)  PT08.S4(NO2)  PT08.S5(O3)  \\\n",
              "0           1046      166          1056      113          1692       1268.0   \n",
              "1            955      103          1174       92          1559        972.0   \n",
              "2            939      131          1140      114          1555       1074.0   \n",
              "3            948      172          1092      122          1584       1203.0   \n",
              "4            836      131          1205      116          1490       1110.0   \n",
              "\n",
              "      T    RH      AH  \n",
              "0  13.6  48.9  0.7578  \n",
              "1  13.3  47.7  0.7255  \n",
              "2  11.9  54.0  0.7502  \n",
              "3  11.0  60.0  0.7867  \n",
              "4  11.2  59.6  0.7888  "
            ],
            "text/html": [
              "\n",
              "  <div id=\"df-6e67190d-6f03-4fd8-83c1-4b29dc0af8a0\">\n",
              "    <div class=\"colab-df-container\">\n",
              "      <div>\n",
              "<style scoped>\n",
              "    .dataframe tbody tr th:only-of-type {\n",
              "        vertical-align: middle;\n",
              "    }\n",
              "\n",
              "    .dataframe tbody tr th {\n",
              "        vertical-align: top;\n",
              "    }\n",
              "\n",
              "    .dataframe thead th {\n",
              "        text-align: right;\n",
              "    }\n",
              "</style>\n",
              "<table border=\"1\" class=\"dataframe\">\n",
              "  <thead>\n",
              "    <tr style=\"text-align: right;\">\n",
              "      <th></th>\n",
              "      <th>Date</th>\n",
              "      <th>Time</th>\n",
              "      <th>CO(GT)</th>\n",
              "      <th>PT08.S1(CO)</th>\n",
              "      <th>NMHC(GT)</th>\n",
              "      <th>C6H6(GT)</th>\n",
              "      <th>PT08.S2(NMHC)</th>\n",
              "      <th>NOx(GT)</th>\n",
              "      <th>PT08.S3(NOx)</th>\n",
              "      <th>NO2(GT)</th>\n",
              "      <th>PT08.S4(NO2)</th>\n",
              "      <th>PT08.S5(O3)</th>\n",
              "      <th>T</th>\n",
              "      <th>RH</th>\n",
              "      <th>AH</th>\n",
              "    </tr>\n",
              "  </thead>\n",
              "  <tbody>\n",
              "    <tr>\n",
              "      <th>0</th>\n",
              "      <td>10/3/2004</td>\n",
              "      <td>18.00.00</td>\n",
              "      <td>2.6</td>\n",
              "      <td>1360</td>\n",
              "      <td>150.0</td>\n",
              "      <td>11.9</td>\n",
              "      <td>1046</td>\n",
              "      <td>166</td>\n",
              "      <td>1056</td>\n",
              "      <td>113</td>\n",
              "      <td>1692</td>\n",
              "      <td>1268.0</td>\n",
              "      <td>13.6</td>\n",
              "      <td>48.9</td>\n",
              "      <td>0.7578</td>\n",
              "    </tr>\n",
              "    <tr>\n",
              "      <th>1</th>\n",
              "      <td>10/3/2004</td>\n",
              "      <td>19.00.00</td>\n",
              "      <td>2.0</td>\n",
              "      <td>1292</td>\n",
              "      <td>112.0</td>\n",
              "      <td>9.4</td>\n",
              "      <td>955</td>\n",
              "      <td>103</td>\n",
              "      <td>1174</td>\n",
              "      <td>92</td>\n",
              "      <td>1559</td>\n",
              "      <td>972.0</td>\n",
              "      <td>13.3</td>\n",
              "      <td>47.7</td>\n",
              "      <td>0.7255</td>\n",
              "    </tr>\n",
              "    <tr>\n",
              "      <th>2</th>\n",
              "      <td>10/3/2004</td>\n",
              "      <td>20.00.00</td>\n",
              "      <td>2.2</td>\n",
              "      <td>1402</td>\n",
              "      <td>88.0</td>\n",
              "      <td>9.0</td>\n",
              "      <td>939</td>\n",
              "      <td>131</td>\n",
              "      <td>1140</td>\n",
              "      <td>114</td>\n",
              "      <td>1555</td>\n",
              "      <td>1074.0</td>\n",
              "      <td>11.9</td>\n",
              "      <td>54.0</td>\n",
              "      <td>0.7502</td>\n",
              "    </tr>\n",
              "    <tr>\n",
              "      <th>3</th>\n",
              "      <td>10/3/2004</td>\n",
              "      <td>21.00.00</td>\n",
              "      <td>2.2</td>\n",
              "      <td>1376</td>\n",
              "      <td>80.0</td>\n",
              "      <td>9.2</td>\n",
              "      <td>948</td>\n",
              "      <td>172</td>\n",
              "      <td>1092</td>\n",
              "      <td>122</td>\n",
              "      <td>1584</td>\n",
              "      <td>1203.0</td>\n",
              "      <td>11.0</td>\n",
              "      <td>60.0</td>\n",
              "      <td>0.7867</td>\n",
              "    </tr>\n",
              "    <tr>\n",
              "      <th>4</th>\n",
              "      <td>10/3/2004</td>\n",
              "      <td>22.00.00</td>\n",
              "      <td>1.6</td>\n",
              "      <td>1272</td>\n",
              "      <td>51.0</td>\n",
              "      <td>6.5</td>\n",
              "      <td>836</td>\n",
              "      <td>131</td>\n",
              "      <td>1205</td>\n",
              "      <td>116</td>\n",
              "      <td>1490</td>\n",
              "      <td>1110.0</td>\n",
              "      <td>11.2</td>\n",
              "      <td>59.6</td>\n",
              "      <td>0.7888</td>\n",
              "    </tr>\n",
              "  </tbody>\n",
              "</table>\n",
              "</div>\n",
              "      <button class=\"colab-df-convert\" onclick=\"convertToInteractive('df-6e67190d-6f03-4fd8-83c1-4b29dc0af8a0')\"\n",
              "              title=\"Convert this dataframe to an interactive table.\"\n",
              "              style=\"display:none;\">\n",
              "        \n",
              "  <svg xmlns=\"http://www.w3.org/2000/svg\" height=\"24px\"viewBox=\"0 0 24 24\"\n",
              "       width=\"24px\">\n",
              "    <path d=\"M0 0h24v24H0V0z\" fill=\"none\"/>\n",
              "    <path d=\"M18.56 5.44l.94 2.06.94-2.06 2.06-.94-2.06-.94-.94-2.06-.94 2.06-2.06.94zm-11 1L8.5 8.5l.94-2.06 2.06-.94-2.06-.94L8.5 2.5l-.94 2.06-2.06.94zm10 10l.94 2.06.94-2.06 2.06-.94-2.06-.94-.94-2.06-.94 2.06-2.06.94z\"/><path d=\"M17.41 7.96l-1.37-1.37c-.4-.4-.92-.59-1.43-.59-.52 0-1.04.2-1.43.59L10.3 9.45l-7.72 7.72c-.78.78-.78 2.05 0 2.83L4 21.41c.39.39.9.59 1.41.59.51 0 1.02-.2 1.41-.59l7.78-7.78 2.81-2.81c.8-.78.8-2.07 0-2.86zM5.41 20L4 18.59l7.72-7.72 1.47 1.35L5.41 20z\"/>\n",
              "  </svg>\n",
              "      </button>\n",
              "      \n",
              "  <style>\n",
              "    .colab-df-container {\n",
              "      display:flex;\n",
              "      flex-wrap:wrap;\n",
              "      gap: 12px;\n",
              "    }\n",
              "\n",
              "    .colab-df-convert {\n",
              "      background-color: #E8F0FE;\n",
              "      border: none;\n",
              "      border-radius: 50%;\n",
              "      cursor: pointer;\n",
              "      display: none;\n",
              "      fill: #1967D2;\n",
              "      height: 32px;\n",
              "      padding: 0 0 0 0;\n",
              "      width: 32px;\n",
              "    }\n",
              "\n",
              "    .colab-df-convert:hover {\n",
              "      background-color: #E2EBFA;\n",
              "      box-shadow: 0px 1px 2px rgba(60, 64, 67, 0.3), 0px 1px 3px 1px rgba(60, 64, 67, 0.15);\n",
              "      fill: #174EA6;\n",
              "    }\n",
              "\n",
              "    [theme=dark] .colab-df-convert {\n",
              "      background-color: #3B4455;\n",
              "      fill: #D2E3FC;\n",
              "    }\n",
              "\n",
              "    [theme=dark] .colab-df-convert:hover {\n",
              "      background-color: #434B5C;\n",
              "      box-shadow: 0px 1px 3px 1px rgba(0, 0, 0, 0.15);\n",
              "      filter: drop-shadow(0px 1px 2px rgba(0, 0, 0, 0.3));\n",
              "      fill: #FFFFFF;\n",
              "    }\n",
              "  </style>\n",
              "\n",
              "      <script>\n",
              "        const buttonEl =\n",
              "          document.querySelector('#df-6e67190d-6f03-4fd8-83c1-4b29dc0af8a0 button.colab-df-convert');\n",
              "        buttonEl.style.display =\n",
              "          google.colab.kernel.accessAllowed ? 'block' : 'none';\n",
              "\n",
              "        async function convertToInteractive(key) {\n",
              "          const element = document.querySelector('#df-6e67190d-6f03-4fd8-83c1-4b29dc0af8a0');\n",
              "          const dataTable =\n",
              "            await google.colab.kernel.invokeFunction('convertToInteractive',\n",
              "                                                     [key], {});\n",
              "          if (!dataTable) return;\n",
              "\n",
              "          const docLinkHtml = 'Like what you see? Visit the ' +\n",
              "            '<a target=\"_blank\" href=https://colab.research.google.com/notebooks/data_table.ipynb>data table notebook</a>'\n",
              "            + ' to learn more about interactive tables.';\n",
              "          element.innerHTML = '';\n",
              "          dataTable['output_type'] = 'display_data';\n",
              "          await google.colab.output.renderOutput(dataTable, element);\n",
              "          const docLink = document.createElement('div');\n",
              "          docLink.innerHTML = docLinkHtml;\n",
              "          element.appendChild(docLink);\n",
              "        }\n",
              "      </script>\n",
              "    </div>\n",
              "  </div>\n",
              "  "
            ]
          },
          "metadata": {},
          "execution_count": 40
        }
      ],
      "source": [
        "df.head()"
      ]
    },
    {
      "cell_type": "markdown",
      "metadata": {
        "id": "lyYdAc_fN4Mv"
      },
      "source": [
        "# Data Pre-Processing"
      ]
    },
    {
      "cell_type": "code",
      "execution_count": null,
      "metadata": {
        "id": "6wbknYb3Hg_p"
      },
      "outputs": [],
      "source": [
        "columns = ['Date', 'Time', 'AH']\n",
        "df.drop(columns=columns, axis=1, inplace=True)"
      ]
    },
    {
      "cell_type": "code",
      "execution_count": null,
      "metadata": {
        "colab": {
          "base_uri": "https://localhost:8080/",
          "height": 206
        },
        "id": "qiGEvb3-Lv95",
        "outputId": "68f69ae3-29f0-4909-c277-acb625c33214"
      },
      "outputs": [
        {
          "output_type": "execute_result",
          "data": {
            "text/plain": [
              "   CO(GT)  PT08.S1(CO)  NMHC(GT)  C6H6(GT)  PT08.S2(NMHC)  NOx(GT)  \\\n",
              "0     2.6         1360     150.0      11.9           1046      166   \n",
              "1     2.0         1292     112.0       9.4            955      103   \n",
              "2     2.2         1402      88.0       9.0            939      131   \n",
              "3     2.2         1376      80.0       9.2            948      172   \n",
              "4     1.6         1272      51.0       6.5            836      131   \n",
              "\n",
              "   PT08.S3(NOx)  NO2(GT)  PT08.S4(NO2)  PT08.S5(O3)     T    RH  \n",
              "0          1056      113          1692       1268.0  13.6  48.9  \n",
              "1          1174       92          1559        972.0  13.3  47.7  \n",
              "2          1140      114          1555       1074.0  11.9  54.0  \n",
              "3          1092      122          1584       1203.0  11.0  60.0  \n",
              "4          1205      116          1490       1110.0  11.2  59.6  "
            ],
            "text/html": [
              "\n",
              "  <div id=\"df-8b44a36c-0188-4c16-9ff7-6b393b4ebdb8\">\n",
              "    <div class=\"colab-df-container\">\n",
              "      <div>\n",
              "<style scoped>\n",
              "    .dataframe tbody tr th:only-of-type {\n",
              "        vertical-align: middle;\n",
              "    }\n",
              "\n",
              "    .dataframe tbody tr th {\n",
              "        vertical-align: top;\n",
              "    }\n",
              "\n",
              "    .dataframe thead th {\n",
              "        text-align: right;\n",
              "    }\n",
              "</style>\n",
              "<table border=\"1\" class=\"dataframe\">\n",
              "  <thead>\n",
              "    <tr style=\"text-align: right;\">\n",
              "      <th></th>\n",
              "      <th>CO(GT)</th>\n",
              "      <th>PT08.S1(CO)</th>\n",
              "      <th>NMHC(GT)</th>\n",
              "      <th>C6H6(GT)</th>\n",
              "      <th>PT08.S2(NMHC)</th>\n",
              "      <th>NOx(GT)</th>\n",
              "      <th>PT08.S3(NOx)</th>\n",
              "      <th>NO2(GT)</th>\n",
              "      <th>PT08.S4(NO2)</th>\n",
              "      <th>PT08.S5(O3)</th>\n",
              "      <th>T</th>\n",
              "      <th>RH</th>\n",
              "    </tr>\n",
              "  </thead>\n",
              "  <tbody>\n",
              "    <tr>\n",
              "      <th>0</th>\n",
              "      <td>2.6</td>\n",
              "      <td>1360</td>\n",
              "      <td>150.0</td>\n",
              "      <td>11.9</td>\n",
              "      <td>1046</td>\n",
              "      <td>166</td>\n",
              "      <td>1056</td>\n",
              "      <td>113</td>\n",
              "      <td>1692</td>\n",
              "      <td>1268.0</td>\n",
              "      <td>13.6</td>\n",
              "      <td>48.9</td>\n",
              "    </tr>\n",
              "    <tr>\n",
              "      <th>1</th>\n",
              "      <td>2.0</td>\n",
              "      <td>1292</td>\n",
              "      <td>112.0</td>\n",
              "      <td>9.4</td>\n",
              "      <td>955</td>\n",
              "      <td>103</td>\n",
              "      <td>1174</td>\n",
              "      <td>92</td>\n",
              "      <td>1559</td>\n",
              "      <td>972.0</td>\n",
              "      <td>13.3</td>\n",
              "      <td>47.7</td>\n",
              "    </tr>\n",
              "    <tr>\n",
              "      <th>2</th>\n",
              "      <td>2.2</td>\n",
              "      <td>1402</td>\n",
              "      <td>88.0</td>\n",
              "      <td>9.0</td>\n",
              "      <td>939</td>\n",
              "      <td>131</td>\n",
              "      <td>1140</td>\n",
              "      <td>114</td>\n",
              "      <td>1555</td>\n",
              "      <td>1074.0</td>\n",
              "      <td>11.9</td>\n",
              "      <td>54.0</td>\n",
              "    </tr>\n",
              "    <tr>\n",
              "      <th>3</th>\n",
              "      <td>2.2</td>\n",
              "      <td>1376</td>\n",
              "      <td>80.0</td>\n",
              "      <td>9.2</td>\n",
              "      <td>948</td>\n",
              "      <td>172</td>\n",
              "      <td>1092</td>\n",
              "      <td>122</td>\n",
              "      <td>1584</td>\n",
              "      <td>1203.0</td>\n",
              "      <td>11.0</td>\n",
              "      <td>60.0</td>\n",
              "    </tr>\n",
              "    <tr>\n",
              "      <th>4</th>\n",
              "      <td>1.6</td>\n",
              "      <td>1272</td>\n",
              "      <td>51.0</td>\n",
              "      <td>6.5</td>\n",
              "      <td>836</td>\n",
              "      <td>131</td>\n",
              "      <td>1205</td>\n",
              "      <td>116</td>\n",
              "      <td>1490</td>\n",
              "      <td>1110.0</td>\n",
              "      <td>11.2</td>\n",
              "      <td>59.6</td>\n",
              "    </tr>\n",
              "  </tbody>\n",
              "</table>\n",
              "</div>\n",
              "      <button class=\"colab-df-convert\" onclick=\"convertToInteractive('df-8b44a36c-0188-4c16-9ff7-6b393b4ebdb8')\"\n",
              "              title=\"Convert this dataframe to an interactive table.\"\n",
              "              style=\"display:none;\">\n",
              "        \n",
              "  <svg xmlns=\"http://www.w3.org/2000/svg\" height=\"24px\"viewBox=\"0 0 24 24\"\n",
              "       width=\"24px\">\n",
              "    <path d=\"M0 0h24v24H0V0z\" fill=\"none\"/>\n",
              "    <path d=\"M18.56 5.44l.94 2.06.94-2.06 2.06-.94-2.06-.94-.94-2.06-.94 2.06-2.06.94zm-11 1L8.5 8.5l.94-2.06 2.06-.94-2.06-.94L8.5 2.5l-.94 2.06-2.06.94zm10 10l.94 2.06.94-2.06 2.06-.94-2.06-.94-.94-2.06-.94 2.06-2.06.94z\"/><path d=\"M17.41 7.96l-1.37-1.37c-.4-.4-.92-.59-1.43-.59-.52 0-1.04.2-1.43.59L10.3 9.45l-7.72 7.72c-.78.78-.78 2.05 0 2.83L4 21.41c.39.39.9.59 1.41.59.51 0 1.02-.2 1.41-.59l7.78-7.78 2.81-2.81c.8-.78.8-2.07 0-2.86zM5.41 20L4 18.59l7.72-7.72 1.47 1.35L5.41 20z\"/>\n",
              "  </svg>\n",
              "      </button>\n",
              "      \n",
              "  <style>\n",
              "    .colab-df-container {\n",
              "      display:flex;\n",
              "      flex-wrap:wrap;\n",
              "      gap: 12px;\n",
              "    }\n",
              "\n",
              "    .colab-df-convert {\n",
              "      background-color: #E8F0FE;\n",
              "      border: none;\n",
              "      border-radius: 50%;\n",
              "      cursor: pointer;\n",
              "      display: none;\n",
              "      fill: #1967D2;\n",
              "      height: 32px;\n",
              "      padding: 0 0 0 0;\n",
              "      width: 32px;\n",
              "    }\n",
              "\n",
              "    .colab-df-convert:hover {\n",
              "      background-color: #E2EBFA;\n",
              "      box-shadow: 0px 1px 2px rgba(60, 64, 67, 0.3), 0px 1px 3px 1px rgba(60, 64, 67, 0.15);\n",
              "      fill: #174EA6;\n",
              "    }\n",
              "\n",
              "    [theme=dark] .colab-df-convert {\n",
              "      background-color: #3B4455;\n",
              "      fill: #D2E3FC;\n",
              "    }\n",
              "\n",
              "    [theme=dark] .colab-df-convert:hover {\n",
              "      background-color: #434B5C;\n",
              "      box-shadow: 0px 1px 3px 1px rgba(0, 0, 0, 0.15);\n",
              "      filter: drop-shadow(0px 1px 2px rgba(0, 0, 0, 0.3));\n",
              "      fill: #FFFFFF;\n",
              "    }\n",
              "  </style>\n",
              "\n",
              "      <script>\n",
              "        const buttonEl =\n",
              "          document.querySelector('#df-8b44a36c-0188-4c16-9ff7-6b393b4ebdb8 button.colab-df-convert');\n",
              "        buttonEl.style.display =\n",
              "          google.colab.kernel.accessAllowed ? 'block' : 'none';\n",
              "\n",
              "        async function convertToInteractive(key) {\n",
              "          const element = document.querySelector('#df-8b44a36c-0188-4c16-9ff7-6b393b4ebdb8');\n",
              "          const dataTable =\n",
              "            await google.colab.kernel.invokeFunction('convertToInteractive',\n",
              "                                                     [key], {});\n",
              "          if (!dataTable) return;\n",
              "\n",
              "          const docLinkHtml = 'Like what you see? Visit the ' +\n",
              "            '<a target=\"_blank\" href=https://colab.research.google.com/notebooks/data_table.ipynb>data table notebook</a>'\n",
              "            + ' to learn more about interactive tables.';\n",
              "          element.innerHTML = '';\n",
              "          dataTable['output_type'] = 'display_data';\n",
              "          await google.colab.output.renderOutput(dataTable, element);\n",
              "          const docLink = document.createElement('div');\n",
              "          docLink.innerHTML = docLinkHtml;\n",
              "          element.appendChild(docLink);\n",
              "        }\n",
              "      </script>\n",
              "    </div>\n",
              "  </div>\n",
              "  "
            ]
          },
          "metadata": {},
          "execution_count": 42
        }
      ],
      "source": [
        "df.head()"
      ]
    },
    {
      "cell_type": "code",
      "execution_count": null,
      "metadata": {
        "id": "VOUhGaukJ88W"
      },
      "outputs": [],
      "source": [
        "def normalizeCol(col):\n",
        "  max = col.max()\n",
        "  min = col.min()\n",
        "  diff = max-min\n",
        "  for x in range(len(col)):\n",
        "    col[x] = (col[x]-min)/diff"
      ]
    },
    {
      "cell_type": "code",
      "execution_count": null,
      "metadata": {
        "colab": {
          "base_uri": "https://localhost:8080/",
          "height": 293
        },
        "id": "cjtF_pFnKbel",
        "outputId": "88747407-deff-4cb7-8f92-c73fefb9af2e"
      },
      "outputs": [
        {
          "output_type": "stream",
          "name": "stderr",
          "text": [
            "<ipython-input-43-b47179d3bff7>:6: SettingWithCopyWarning: \n",
            "A value is trying to be set on a copy of a slice from a DataFrame\n",
            "\n",
            "See the caveats in the documentation: https://pandas.pydata.org/pandas-docs/stable/user_guide/indexing.html#returning-a-view-versus-a-copy\n",
            "  col[x] = (col[x]-min)/diff\n"
          ]
        },
        {
          "output_type": "execute_result",
          "data": {
            "text/plain": [
              "     CO(GT)  PT08.S1(CO)  NMHC(GT)  C6H6(GT)  PT08.S2(NMHC)   NOx(GT)  \\\n",
              "0  0.124447     0.696429  0.251980  0.139316       0.516156  0.217987   \n",
              "1  0.124079     0.666071  0.224622  0.137673       0.478459  0.180465   \n",
              "2  0.124201     0.715179  0.207343  0.137410       0.471831  0.197141   \n",
              "3  0.124201     0.703571  0.201584  0.137541       0.475559  0.221560   \n",
              "4  0.123833     0.657143  0.180706  0.135766       0.429163  0.197141   \n",
              "\n",
              "   PT08.S3(NOx)   NO2(GT)  PT08.S4(NO2)  PT08.S5(O3)         T        RH  \n",
              "0      0.435657  0.158161      0.635966     0.539111  0.830482  0.862141  \n",
              "1      0.476587  0.147549      0.591261     0.430408  0.829316  0.857984  \n",
              "2      0.464794  0.158666      0.589916     0.467866  0.823872  0.879806  \n",
              "3      0.448144  0.162708      0.599664     0.515241  0.820373  0.900589  \n",
              "4      0.487340  0.159677      0.568067     0.481087  0.821151  0.899203  "
            ],
            "text/html": [
              "\n",
              "  <div id=\"df-c3df9e66-c7e6-4949-9888-4a64eb033a6e\">\n",
              "    <div class=\"colab-df-container\">\n",
              "      <div>\n",
              "<style scoped>\n",
              "    .dataframe tbody tr th:only-of-type {\n",
              "        vertical-align: middle;\n",
              "    }\n",
              "\n",
              "    .dataframe tbody tr th {\n",
              "        vertical-align: top;\n",
              "    }\n",
              "\n",
              "    .dataframe thead th {\n",
              "        text-align: right;\n",
              "    }\n",
              "</style>\n",
              "<table border=\"1\" class=\"dataframe\">\n",
              "  <thead>\n",
              "    <tr style=\"text-align: right;\">\n",
              "      <th></th>\n",
              "      <th>CO(GT)</th>\n",
              "      <th>PT08.S1(CO)</th>\n",
              "      <th>NMHC(GT)</th>\n",
              "      <th>C6H6(GT)</th>\n",
              "      <th>PT08.S2(NMHC)</th>\n",
              "      <th>NOx(GT)</th>\n",
              "      <th>PT08.S3(NOx)</th>\n",
              "      <th>NO2(GT)</th>\n",
              "      <th>PT08.S4(NO2)</th>\n",
              "      <th>PT08.S5(O3)</th>\n",
              "      <th>T</th>\n",
              "      <th>RH</th>\n",
              "    </tr>\n",
              "  </thead>\n",
              "  <tbody>\n",
              "    <tr>\n",
              "      <th>0</th>\n",
              "      <td>0.124447</td>\n",
              "      <td>0.696429</td>\n",
              "      <td>0.251980</td>\n",
              "      <td>0.139316</td>\n",
              "      <td>0.516156</td>\n",
              "      <td>0.217987</td>\n",
              "      <td>0.435657</td>\n",
              "      <td>0.158161</td>\n",
              "      <td>0.635966</td>\n",
              "      <td>0.539111</td>\n",
              "      <td>0.830482</td>\n",
              "      <td>0.862141</td>\n",
              "    </tr>\n",
              "    <tr>\n",
              "      <th>1</th>\n",
              "      <td>0.124079</td>\n",
              "      <td>0.666071</td>\n",
              "      <td>0.224622</td>\n",
              "      <td>0.137673</td>\n",
              "      <td>0.478459</td>\n",
              "      <td>0.180465</td>\n",
              "      <td>0.476587</td>\n",
              "      <td>0.147549</td>\n",
              "      <td>0.591261</td>\n",
              "      <td>0.430408</td>\n",
              "      <td>0.829316</td>\n",
              "      <td>0.857984</td>\n",
              "    </tr>\n",
              "    <tr>\n",
              "      <th>2</th>\n",
              "      <td>0.124201</td>\n",
              "      <td>0.715179</td>\n",
              "      <td>0.207343</td>\n",
              "      <td>0.137410</td>\n",
              "      <td>0.471831</td>\n",
              "      <td>0.197141</td>\n",
              "      <td>0.464794</td>\n",
              "      <td>0.158666</td>\n",
              "      <td>0.589916</td>\n",
              "      <td>0.467866</td>\n",
              "      <td>0.823872</td>\n",
              "      <td>0.879806</td>\n",
              "    </tr>\n",
              "    <tr>\n",
              "      <th>3</th>\n",
              "      <td>0.124201</td>\n",
              "      <td>0.703571</td>\n",
              "      <td>0.201584</td>\n",
              "      <td>0.137541</td>\n",
              "      <td>0.475559</td>\n",
              "      <td>0.221560</td>\n",
              "      <td>0.448144</td>\n",
              "      <td>0.162708</td>\n",
              "      <td>0.599664</td>\n",
              "      <td>0.515241</td>\n",
              "      <td>0.820373</td>\n",
              "      <td>0.900589</td>\n",
              "    </tr>\n",
              "    <tr>\n",
              "      <th>4</th>\n",
              "      <td>0.123833</td>\n",
              "      <td>0.657143</td>\n",
              "      <td>0.180706</td>\n",
              "      <td>0.135766</td>\n",
              "      <td>0.429163</td>\n",
              "      <td>0.197141</td>\n",
              "      <td>0.487340</td>\n",
              "      <td>0.159677</td>\n",
              "      <td>0.568067</td>\n",
              "      <td>0.481087</td>\n",
              "      <td>0.821151</td>\n",
              "      <td>0.899203</td>\n",
              "    </tr>\n",
              "  </tbody>\n",
              "</table>\n",
              "</div>\n",
              "      <button class=\"colab-df-convert\" onclick=\"convertToInteractive('df-c3df9e66-c7e6-4949-9888-4a64eb033a6e')\"\n",
              "              title=\"Convert this dataframe to an interactive table.\"\n",
              "              style=\"display:none;\">\n",
              "        \n",
              "  <svg xmlns=\"http://www.w3.org/2000/svg\" height=\"24px\"viewBox=\"0 0 24 24\"\n",
              "       width=\"24px\">\n",
              "    <path d=\"M0 0h24v24H0V0z\" fill=\"none\"/>\n",
              "    <path d=\"M18.56 5.44l.94 2.06.94-2.06 2.06-.94-2.06-.94-.94-2.06-.94 2.06-2.06.94zm-11 1L8.5 8.5l.94-2.06 2.06-.94-2.06-.94L8.5 2.5l-.94 2.06-2.06.94zm10 10l.94 2.06.94-2.06 2.06-.94-2.06-.94-.94-2.06-.94 2.06-2.06.94z\"/><path d=\"M17.41 7.96l-1.37-1.37c-.4-.4-.92-.59-1.43-.59-.52 0-1.04.2-1.43.59L10.3 9.45l-7.72 7.72c-.78.78-.78 2.05 0 2.83L4 21.41c.39.39.9.59 1.41.59.51 0 1.02-.2 1.41-.59l7.78-7.78 2.81-2.81c.8-.78.8-2.07 0-2.86zM5.41 20L4 18.59l7.72-7.72 1.47 1.35L5.41 20z\"/>\n",
              "  </svg>\n",
              "      </button>\n",
              "      \n",
              "  <style>\n",
              "    .colab-df-container {\n",
              "      display:flex;\n",
              "      flex-wrap:wrap;\n",
              "      gap: 12px;\n",
              "    }\n",
              "\n",
              "    .colab-df-convert {\n",
              "      background-color: #E8F0FE;\n",
              "      border: none;\n",
              "      border-radius: 50%;\n",
              "      cursor: pointer;\n",
              "      display: none;\n",
              "      fill: #1967D2;\n",
              "      height: 32px;\n",
              "      padding: 0 0 0 0;\n",
              "      width: 32px;\n",
              "    }\n",
              "\n",
              "    .colab-df-convert:hover {\n",
              "      background-color: #E2EBFA;\n",
              "      box-shadow: 0px 1px 2px rgba(60, 64, 67, 0.3), 0px 1px 3px 1px rgba(60, 64, 67, 0.15);\n",
              "      fill: #174EA6;\n",
              "    }\n",
              "\n",
              "    [theme=dark] .colab-df-convert {\n",
              "      background-color: #3B4455;\n",
              "      fill: #D2E3FC;\n",
              "    }\n",
              "\n",
              "    [theme=dark] .colab-df-convert:hover {\n",
              "      background-color: #434B5C;\n",
              "      box-shadow: 0px 1px 3px 1px rgba(0, 0, 0, 0.15);\n",
              "      filter: drop-shadow(0px 1px 2px rgba(0, 0, 0, 0.3));\n",
              "      fill: #FFFFFF;\n",
              "    }\n",
              "  </style>\n",
              "\n",
              "      <script>\n",
              "        const buttonEl =\n",
              "          document.querySelector('#df-c3df9e66-c7e6-4949-9888-4a64eb033a6e button.colab-df-convert');\n",
              "        buttonEl.style.display =\n",
              "          google.colab.kernel.accessAllowed ? 'block' : 'none';\n",
              "\n",
              "        async function convertToInteractive(key) {\n",
              "          const element = document.querySelector('#df-c3df9e66-c7e6-4949-9888-4a64eb033a6e');\n",
              "          const dataTable =\n",
              "            await google.colab.kernel.invokeFunction('convertToInteractive',\n",
              "                                                     [key], {});\n",
              "          if (!dataTable) return;\n",
              "\n",
              "          const docLinkHtml = 'Like what you see? Visit the ' +\n",
              "            '<a target=\"_blank\" href=https://colab.research.google.com/notebooks/data_table.ipynb>data table notebook</a>'\n",
              "            + ' to learn more about interactive tables.';\n",
              "          element.innerHTML = '';\n",
              "          dataTable['output_type'] = 'display_data';\n",
              "          await google.colab.output.renderOutput(dataTable, element);\n",
              "          const docLink = document.createElement('div');\n",
              "          docLink.innerHTML = docLinkHtml;\n",
              "          element.appendChild(docLink);\n",
              "        }\n",
              "      </script>\n",
              "    </div>\n",
              "  </div>\n",
              "  "
            ]
          },
          "metadata": {},
          "execution_count": 44
        }
      ],
      "source": [
        "for col in df:\n",
        "    normalizeCol(df[col])\n",
        "df.head()"
      ]
    },
    {
      "cell_type": "code",
      "execution_count": null,
      "metadata": {
        "colab": {
          "base_uri": "https://localhost:8080/"
        },
        "id": "5aeNUcYBGduE",
        "outputId": "3127a62c-b812-4378-e08f-2391bb8edf19"
      },
      "outputs": [
        {
          "output_type": "stream",
          "name": "stdout",
          "text": [
            "CO(GT) False\n",
            "PT08.S1(CO) False\n",
            "NMHC(GT) False\n",
            "C6H6(GT) False\n",
            "PT08.S2(NMHC) False\n",
            "NOx(GT) False\n",
            "PT08.S3(NOx) False\n",
            "NO2(GT) False\n",
            "PT08.S4(NO2) False\n",
            "PT08.S5(O3) False\n",
            "T False\n",
            "RH False\n"
          ]
        }
      ],
      "source": [
        "for col in df.columns:\n",
        "  print(col, df[col].isnull().values.any())"
      ]
    },
    {
      "cell_type": "code",
      "execution_count": null,
      "metadata": {
        "id": "gG0_wS3XOSzY"
      },
      "outputs": [],
      "source": [
        "labelCol = ['RH']\n",
        "X = df[df.columns[~df.columns.isin(labelCol)]]\n",
        "Y = df[labelCol]\n",
        "X_train, X_test, Y_train, Y_test = train_test_split(X, Y, test_size=0.25, random_state = 0)\n",
        "X_train.insert(0, 'bias', 1)\n",
        "X_test.insert(0, 'bias', 1)"
      ]
    },
    {
      "cell_type": "code",
      "execution_count": null,
      "metadata": {
        "colab": {
          "base_uri": "https://localhost:8080/"
        },
        "id": "yGJ07g9zQbEA",
        "outputId": "4b20c98d-823f-4c4c-bd5f-cabb3b504d34"
      },
      "outputs": [
        {
          "output_type": "stream",
          "name": "stdout",
          "text": [
            "(12,) (7017, 1)\n"
          ]
        }
      ],
      "source": [
        "print(X_train.iloc[0].to_numpy().shape, Y_train.shape)"
      ]
    },
    {
      "cell_type": "markdown",
      "metadata": {
        "id": "rQ0YyB54N9rF"
      },
      "source": [
        "# Model Training Using TGD and SGD"
      ]
    },
    {
      "cell_type": "code",
      "execution_count": null,
      "metadata": {
        "id": "z6envpaZODBL"
      },
      "outputs": [],
      "source": [
        "def linear_regression_total_gradient_descent(X_train, Y_train, epochs):\n",
        "  weights = np.zeros(len(X_train.columns))\n",
        "  learning_rate = 1e-5\n",
        "  regularization = 1e-2\n",
        "  for epoch in range(epochs):\n",
        "    Y_pred = (weights @ X_train.T)\n",
        "    weights -= learning_rate*((Y_pred - Y_train.T)@X_train + regularization*weights)\n",
        "  return weights\n",
        "\n",
        "def linear_regression_stochastic_gradient_descent(X_train, Y_train, iterations):\n",
        "  weights = np.zeros(len(X_train.columns))\n",
        "  learning_rate = 1e-2\n",
        "  regularization = 1e-2\n",
        "  for iter in range(iterations):\n",
        "    randomIndex = random.randint(0, len(X_train)-1)\n",
        "    Y_pred = (weights @ X_train.iloc[randomIndex].to_numpy().reshape(-1, 1))\n",
        "    weights -= learning_rate*((Y_pred - Y_train.iloc[randomIndex].to_numpy()) @ X_train.iloc[randomIndex].to_numpy().reshape(1, -1) + regularization*weights)\n",
        "  return weights\n",
        "\n",
        "\n",
        "def log_regression_batch_gradient_descent(X_train, Y_train, iterations, batchSize):\n",
        "  weights = np.zeros(len(X_train.columns))\n",
        "  learning_rate = 1e-4\n",
        "  regularization = 1e-5\n",
        "  for iter in range(iterations):\n",
        "      randomIndices = np.random.randint(len(X_train)-1, size=(batchSize))\n",
        "      Y_pred = weights @ X_train.iloc[randomIndices].T.to_numpy()\n",
        "      weights -= learning_rate*((Y_pred - Y_train.iloc[randomIndices].T.to_numpy()).reshape(-1) @ X_train.iloc[randomIndices].to_numpy() + regularization*weights)\n",
        "      weights = weights\n",
        "  return weights.reshape(-1)"
      ]
    },
    {
      "cell_type": "markdown",
      "metadata": {
        "id": "9PyTLqpPRzuN"
      },
      "source": [
        "# Making Predictions"
      ]
    },
    {
      "cell_type": "code",
      "execution_count": null,
      "metadata": {
        "id": "y2JTjPQeYUwv"
      },
      "outputs": [],
      "source": [
        "def RSSE(pred, Y_test):\n",
        "  Y_test = Y_test.to_numpy().reshape(-1)\n",
        "  pred = pred.to_numpy()\n",
        "  rsse = 0\n",
        "  for i in range(len(pred)):\n",
        "    rsse += (pred[i] - Y_test[i])**2\n",
        "  return rsse"
      ]
    },
    {
      "cell_type": "code",
      "execution_count": null,
      "metadata": {
        "id": "uM0mD9lbK6Nd"
      },
      "outputs": [],
      "source": [
        "def pred(weights, X_test, Y_test):\n",
        "  pred = weights @ X_test.T\n",
        "  return RSSE(pred, Y_test)"
      ]
    },
    {
      "cell_type": "code",
      "execution_count": null,
      "metadata": {
        "id": "bqWjCm_fXSo6"
      },
      "outputs": [],
      "source": [
        "epochs = [i for i in range(5, 100, 10)]\n",
        "iterations = [i for i in range(1, 100, 5)]"
      ]
    },
    {
      "cell_type": "code",
      "execution_count": null,
      "metadata": {
        "colab": {
          "base_uri": "https://localhost:8080/",
          "height": 449
        },
        "id": "Rk9i2WeuTtYq",
        "outputId": "379809c3-6973-4aff-95a3-50f91b637727"
      },
      "outputs": [
        {
          "output_type": "display_data",
          "data": {
            "text/plain": [
              "<Figure size 640x480 with 1 Axes>"
            ],
            "image/png": "[encoded data removed]"
          },
          "metadata": {}
        }
      ],
      "source": [
        "w1 = []\n",
        "w2 = []\n",
        "for epoch in epochs:\n",
        "  w1.append(linear_regression_total_gradient_descent(X_train, Y_train, epoch))\n",
        "for iter in iterations:\n",
        "  w2.append(linear_regression_stochastic_gradient_descent(X_train, Y_train, iter))\n",
        "\n",
        "score1 = []\n",
        "score2 = []\n",
        "for w in w1:\n",
        "  score1.append(pred(w, X_test, Y_test))\n",
        "for w in w2:\n",
        "  score2.append(pred(w, X_test, Y_test))\n",
        "\n",
        "plt.plot(epochs, score1, color='r')\n",
        "plt.xlabel('Epochs')\n",
        "plt.ylabel('RSSE')\n",
        "plt.legend(['TGD'], loc='upper right')\n",
        "plt.show()"
      ]
    },
    {
      "cell_type": "code",
      "source": [
        "plt.plot(iterations, score2, color='b')\n",
        "plt.xlabel('Iterations')\n",
        "plt.ylabel('RSSE')\n",
        "plt.legend(['SGD'], loc='upper right')\n",
        "plt.show()"
      ],
      "metadata": {
        "colab": {
          "base_uri": "https://localhost:8080/",
          "height": 449
        },
        "id": "S4z2awpLFVEq",
        "outputId": "c153c222-199c-4760-c60c-de343ca78169"
      },
      "execution_count": null,
      "outputs": [
        {
          "output_type": "display_data",
          "data": {
            "text/plain": [
              "<Figure size 640x480 with 1 Axes>"
            ],
            "image/png": "[encoded data removed]"
          },
          "metadata": {}
        }
      ]
    },
    {
      "cell_type": "code",
      "execution_count": null,
      "metadata": {
        "colab": {
          "base_uri": "https://localhost:8080/",
          "height": 449
        },
        "id": "lWGy4GpWaIXk",
        "outputId": "32a195ee-9966-4269-f1cc-ee50e04edb16"
      },
      "outputs": [
        {
          "output_type": "display_data",
          "data": {
            "text/plain": [
              "<Figure size 640x480 with 1 Axes>"
            ],
            "image/png": "[encoded data removed]"
          },
          "metadata": {}
        }
      ],
      "source": [
        "batchSize = 1000\n",
        "batch = []\n",
        "error = []\n",
        "for i in range(1, batchSize):\n",
        "  batch.append(i)\n",
        "  w3 = log_regression_batch_gradient_descent(X_train, Y_train, 1, i)\n",
        "  error.append(pred(w3, X_test, Y_test))\n",
        "\n",
        "plt.plot(batch, error, color='g', label='BGD')\n",
        "plt.xlabel('Batch Size')\n",
        "plt.ylabel('RSSE')\n",
        "plt.legend(['BGD'], loc='upper right')\n",
        "plt.show()"
      ]
    },
    {
      "cell_type": "code",
      "source": [
        "batchSize = 7000\n",
        "batch = []\n",
        "error = []\n",
        "times = []\n",
        "for i in range(1, batchSize):\n",
        "  batch.append(i)\n",
        "  start = process_time_ns()\n",
        "  w3 = log_regression_batch_gradient_descent(X_train, Y_train, 1, i)\n",
        "  end = process_time_ns()\n",
        "  times.append(end-start)\n",
        "  error.append(pred(w3, X_test, Y_test))\n",
        "\n",
        "plt.plot(batch, times, color='g', label='BGD')\n",
        "plt.xlabel('Batch Size')\n",
        "plt.ylabel('Time')\n",
        "plt.legend(['BGD'], loc='upper left')\n",
        "plt.show()"
      ],
      "metadata": {
        "colab": {
          "base_uri": "https://localhost:8080/",
          "height": 465
        },
        "id": "HbMspDkPQMs2",
        "outputId": "d0c737e1-2ea5-4cd9-b2f0-bda02fd31fce"
      },
      "execution_count": null,
      "outputs": [
        {
          "output_type": "display_data",
          "data": {
            "text/plain": [
              "<Figure size 640x480 with 1 Axes>"
            ],
            "image/png": "[encoded data removed]"
          },
          "metadata": {}
        }
      ]
    },
    {
      "cell_type": "code",
      "source": [
        "batch = [32*i for i in range(1, 210)]\n",
        "error = []\n",
        "for i in batch:\n",
        "  w3 = log_regression_batch_gradient_descent(X_train, Y_train, 10, i)\n",
        "  error.append(pred(w3, X_train, Y_train))\n",
        "\n",
        "plt.plot(batch, error, color='g', label='BGD')\n",
        "plt.xlabel('Batch Size')\n",
        "plt.ylabel('RSSE')\n",
        "plt.legend(['BGD'], loc='upper right')\n",
        "plt.show()"
      ],
      "metadata": {
        "colab": {
          "base_uri": "https://localhost:8080/",
          "height": 449
        },
        "id": "51Lb1i9nbzQV",
        "outputId": "3e9873fe-47fc-4a5f-d5f3-5dc52e7c4dd8"
      },
      "execution_count": null,
      "outputs": [
        {
          "output_type": "display_data",
          "data": {
            "text/plain": [
              "<Figure size 640x480 with 1 Axes>"
            ],
            "image/png": "[encoded data removed]"
          },
          "metadata": {}
        }
      ]
    },
    {
      "cell_type": "code",
      "execution_count": null,
      "metadata": {
        "colab": {
          "base_uri": "https://localhost:8080/",
          "height": 449
        },
        "id": "_T3jt2QUrgWD",
        "outputId": "92718112-167c-4b5f-f142-747b67ebc558"
      },
      "outputs": [
        {
          "output_type": "display_data",
          "data": {
            "text/plain": [
              "<Figure size 640x480 with 1 Axes>"
            ],
            "image/png": "[encoded data removed]"
          },
          "metadata": {}
        }
      ],
      "source": [
        "batch = [32*i for i in range(1, 210)]\n",
        "error = []\n",
        "for i in batch:\n",
        "  w3 = log_regression_batch_gradient_descent(X_train, Y_train, 10, i)\n",
        "  error.append(pred(w3, X_test, Y_test))\n",
        "\n",
        "plt.plot(batch, error, color='g', label='BGD')\n",
        "plt.xlabel('Batch Size')\n",
        "plt.ylabel('RSSE')\n",
        "plt.legend(['BGD'], loc='upper right')\n",
        "plt.show()"
      ]
    },
    {
      "cell_type": "code",
      "execution_count": null,
      "metadata": {
        "colab": {
          "base_uri": "https://localhost:8080/",
          "height": 449
        },
        "id": "2mfsUwoisbu9",
        "outputId": "f199559c-f15c-4a16-96b3-212a174eaee3"
      },
      "outputs": [
        {
          "output_type": "display_data",
          "data": {
            "text/plain": [
              "<Figure size 640x480 with 1 Axes>"
            ],
            "image/png": "[encoded data removed]"
          },
          "metadata": {}
        }
      ],
      "source": [
        "w1 = []\n",
        "w2 = []\n",
        "for epoch in epochs:\n",
        "  w1.append(linear_regression_total_gradient_descent(X_train, Y_train, epoch))\n",
        "\n",
        "for epoch in epochs:\n",
        "  w2.append(linear_regression_stochastic_gradient_descent(X_train, Y_train, epoch))\n",
        "\n",
        "score1 = []\n",
        "score2 = []\n",
        "for w in w1:\n",
        "  score1.append(pred(w, X_test, Y_test))\n",
        "for w in w2:\n",
        "  score2.append(pred(w, X_test, Y_test))\n",
        "\n",
        "plt.plot(epochs, score1, color='r')\n",
        "plt.plot(epochs, score2, color='b')\n",
        "plt.xlabel('Epochs')\n",
        "plt.ylabel('RSSE')\n",
        "plt.legend(['TGD', 'SGD'], loc='upper right')\n",
        "plt.show()"
      ]
    },
    {
      "cell_type": "code",
      "execution_count": null,
      "metadata": {
        "colab": {
          "base_uri": "https://localhost:8080/",
          "height": 449
        },
        "id": "5b6rMEzAAAN8",
        "outputId": "6985076f-3a1c-479c-ade2-36636a584b53"
      },
      "outputs": [
        {
          "output_type": "display_data",
          "data": {
            "text/plain": [
              "<Figure size 640x480 with 1 Axes>"
            ],
            "image/png": "[encoded data removed]"
          },
          "metadata": {}
        }
      ],
      "source": [
        "score1 = []\n",
        "score2 = []\n",
        "for w in w1:\n",
        "  score1.append(pred(w, X_train, Y_train))\n",
        "for w in w2:\n",
        "  score2.append(pred(w, X_train, Y_train))\n",
        "\n",
        "plt.plot(epochs, score1, color='r')\n",
        "plt.plot(epochs, score2, color='b')\n",
        "plt.xlabel('Epochs')\n",
        "plt.ylabel('RSSE')\n",
        "plt.legend(['TGD', 'SGD'], loc='upper right')\n",
        "plt.show()"
      ]
    },
    {
      "cell_type": "code",
      "source": [
        "start = process_time_ns()\n",
        "w1 = linear_regression_total_gradient_descent(X_train, Y_train, 15)\n",
        "end = process_time_ns()\n",
        "print('TGD Time :', end-start, 'ns')\n",
        "start = process_time_ns()\n",
        "w2 = linear_regression_stochastic_gradient_descent(X_train, Y_train, 80)\n",
        "end = process_time_ns()\n",
        "print('SGD Time :', end-start, 'ns')\n",
        "start = process_time_ns()\n",
        "w3 = log_regression_batch_gradient_descent(X_train, Y_train, 1, 1000)\n",
        "end = process_time_ns()\n",
        "print('BGD Time :', end-start, 'ns')"
      ],
      "metadata": {
        "colab": {
          "base_uri": "https://localhost:8080/"
        },
        "id": "60Tz5HJqXmge",
        "outputId": "1402a421-1cb4-4a3c-dc31-21dd9d8c8698"
      },
      "execution_count": null,
      "outputs": [
        {
          "output_type": "stream",
          "name": "stdout",
          "text": [
            "TGD Time : 155697390 ns\n",
            "SGD Time : 65333498 ns\n",
            "BGD Time : 2413353 ns\n"
          ]
        }
      ]
    }
  ],
  "metadata": {
    "colab": {
      "provenance": []
    },
    "gpuClass": "standard",
    "kernelspec": {
      "display_name": "Python 3",
      "name": "python3"
    },
    "language_info": {
      "name": "python"
    }
  },
  "nbformat": 4,
  "nbformat_minor": 0
}